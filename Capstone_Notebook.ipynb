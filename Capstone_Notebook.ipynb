{
 "cells": [
  {
   "cell_type": "markdown",
   "metadata": {},
   "source": [
    "# Introduction"
   ]
  },
  {
   "cell_type": "markdown",
   "metadata": {},
   "source": [
    "My client wants to find an ideal location to open an ice cream parlor in Chicago, IL (USA).  She has hired me to use location data to identify key metrics that will aid in location selection.   I believe Foursquare location data can be used to identify competing businesses in various neighborhoods of Chicago and to help quantify the existence of potential customers.  An ideal location will have low competition and a large number of potential customers.  "
   ]
  },
  {
   "cell_type": "markdown",
   "metadata": {},
   "source": [
    "# Data"
   ]
  },
  {
   "cell_type": "markdown",
   "metadata": {},
   "source": [
    "I intend to use geolocation to identify the most important variables that impact the choice of location.  In particular I plan to find nearby competitor businesses including other ice cream parlors, fast food locations with dessert menus, etc.  I also want to look closely at the location of schools and parks as indicators that a large number of potential customers exist.  Successful nearby coffee shops and restaurants may also be helpful in location selection.  I believe an ideal location with somewhat limited competition but a large number of potential customers can be found using the above data.  "
   ]
  },
  {
   "cell_type": "code",
   "execution_count": null,
   "metadata": {},
   "outputs": [],
   "source": []
  }
 ],
 "metadata": {
  "kernelspec": {
   "display_name": "Python 3",
   "language": "python",
   "name": "python3"
  },
  "language_info": {
   "codemirror_mode": {
    "name": "ipython",
    "version": 3
   },
   "file_extension": ".py",
   "mimetype": "text/x-python",
   "name": "python",
   "nbconvert_exporter": "python",
   "pygments_lexer": "ipython3",
   "version": "3.6.7"
  }
 },
 "nbformat": 4,
 "nbformat_minor": 2
}
